{
  "nbformat": 4,
  "nbformat_minor": 0,
  "metadata": {
    "colab": {
      "name": "Copia de QuiasiPhaseEquilibrium.ipynb",
      "provenance": [],
      "authorship_tag": "ABX9TyP9BEpn/mGwSZqbRgn4mJiY",
      "include_colab_link": true
    },
    "kernelspec": {
      "name": "python3",
      "display_name": "Python 3"
    }
  },
  "cells": [
    {
      "cell_type": "markdown",
      "metadata": {
        "id": "view-in-github",
        "colab_type": "text"
      },
      "source": [
        "<a href=\"https://colab.research.google.com/github/joseluisnaranjo/QuasiPhaseEquilibrium/blob/master/Multioutput_QuiasiPhaseEquilibrium.ipynb\" target=\"_parent\"><img src=\"https://colab.research.google.com/assets/colab-badge.svg\" alt=\"Open In Colab\"/></a>"
      ]
    },
    {
      "cell_type": "markdown",
      "metadata": {
        "id": "ajQspFvk7FU7",
        "colab_type": "text"
      },
      "source": [
        " ## **Lanzhou University Of Tehcnology**\n",
        "> [LUT website](https://www.lut.edu.cn/) \n",
        "\n",
        "![texto alternativo](https://media-exp1.licdn.com/dms/image/C4E0BAQFQAetOtpLtZw/company-logo_200_200/0?e=1593648000&v=beta&t=OXpnfAl0bTkHfBb1sbnR2ZadKk-51e9c4IykdyBfqFI)\n",
        "\n",
        "\n",
        "---\n",
        "\n"
      ]
    },
    {
      "cell_type": "markdown",
      "metadata": {
        "id": "ZIAkIlfmCe1B",
        "colab_type": "text"
      },
      "source": [
        " **Improving** the fast prediction of the quasi phase equilibrum in phase field model for multicomponet alloys. "
      ]
    },
    {
      "cell_type": "markdown",
      "metadata": {
        "colab_type": "text",
        "id": "vyVVyZFo9q1C"
      },
      "source": [
        "We aim to improve the phase field model for multicomponent alloys introduced by **Xue Jiang** et al., In the published pair they provide the data used to obtain their results, therefor we are using the same data set in order to have evidence that our Neural Network Model (NN) for the fast prediction of the quasi phase equilibrium. We propose a robust NN which incorporates several layers including convolutional and pulling layers in the case they are implemnted. \n",
        "\n",
        "As a forst step, we are going to load the data as following: "
      ]
    },
    {
      "cell_type": "code",
      "metadata": {
        "id": "bra0d7LO-fJe",
        "colab_type": "code",
        "colab": {}
      },
      "source": [
        "from google.colab import files\n",
        "uploaded = files.upload()\n",
        "for fn in uploaded.keys():\n",
        "  print('User uploaded file \"{name}\" with length {length} bytes'.format(\n",
        "      name=fn, length=len(uploaded[fn])))"
      ],
      "execution_count": 0,
      "outputs": []
    },
    {
      "cell_type": "code",
      "metadata": {
        "id": "tMGl5bV9-3TC",
        "colab_type": "code",
        "colab": {}
      },
      "source": [
        "from numpy import genfromtxt\n",
        "my_training_data = genfromtxt('Data100kTraining.csv', delimiter=',')\n",
        "my_test_data = genfromtxt('Data1kTesting.csv', delimiter=',')\n",
        "training_inputdata = my_training_data[1:,0:3]\n",
        "training_outputdata = my_training_data[1:,3]\n",
        "test_inputdata = my_test_data[1:,0:3]\n",
        "test_outputdata = my_test_data[1:,3]"
      ],
      "execution_count": 0,
      "outputs": []
    },
    {
      "cell_type": "code",
      "metadata": {
        "id": "SR8i13EFZJNV",
        "colab_type": "code",
        "outputId": "423c7032-6bb5-4ed2-b0be-9fbb1f86197e",
        "colab": {
          "base_uri": "https://localhost:8080/",
          "height": 35
        }
      },
      "source": [
        "\n",
        "print (training_outputdata)"
      ],
      "execution_count": 73,
      "outputs": [
        {
          "output_type": "stream",
          "text": [
            "[0.03423592 0.03418403 0.01220378 ... 0.10069036 0.0385227  0.01750982]\n"
          ],
          "name": "stdout"
        }
      ]
    },
    {
      "cell_type": "code",
      "metadata": {
        "id": "kgZOhAriaG_H",
        "colab_type": "code",
        "outputId": "a4d43f63-286f-4731-ffff-c7ed3d119c98",
        "colab": {
          "base_uri": "https://localhost:8080/",
          "height": 90
        }
      },
      "source": [
        "import numpy as np\n",
        "from numpy import  newaxis\n",
        "\n",
        "training_input = training_inputdata[:,:,newaxis]\n",
        "training_output = training_outputdata.reshape(100000,1)\n",
        "test_input = test_inputdata[:,:,newaxis]\n",
        "test_output = test_outputdata.reshape(1000,1)\n",
        "print (training_input.shape)\n",
        "print (training_output.shape)\n",
        "print (test_input.shape)\n",
        "print (test_output.shape)"
      ],
      "execution_count": 147,
      "outputs": [
        {
          "output_type": "stream",
          "text": [
            "(100000, 3, 1)\n",
            "(100000, 1)\n",
            "(1000, 3, 1)\n",
            "(1000, 1)\n"
          ],
          "name": "stdout"
        }
      ]
    },
    {
      "cell_type": "markdown",
      "metadata": {
        "id": "H41FYgtlHPjW",
        "colab_type": "text"
      },
      "source": [
        "\n",
        "Let's start with our import of TensorFlow"
      ]
    },
    {
      "cell_type": "code",
      "metadata": {
        "id": "Gzm75_3l2VS_",
        "colab_type": "code",
        "colab": {
          "base_uri": "https://localhost:8080/",
          "height": 35
        },
        "outputId": "f1b02b7e-c2db-4087-abb2-365b36af5715"
      },
      "source": [
        "%tensorflow_version 1.x"
      ],
      "execution_count": 74,
      "outputs": [
        {
          "output_type": "stream",
          "text": [
            "TensorFlow is already loaded. Please restart the runtime to change versions.\n"
          ],
          "name": "stdout"
        }
      ]
    },
    {
      "cell_type": "code",
      "metadata": {
        "id": "q3KzJyjv3rnA",
        "colab_type": "code",
        "outputId": "f3cc4581-83f3-43e3-b6f6-9716ad4659c2",
        "colab": {
          "base_uri": "https://localhost:8080/",
          "height": 35
        }
      },
      "source": [
        "import tensorflow as tf\n",
        "print(tf.__version__)"
      ],
      "execution_count": 75,
      "outputs": [
        {
          "output_type": "stream",
          "text": [
            "1.15.2\n"
          ],
          "name": "stdout"
        }
      ]
    },
    {
      "cell_type": "markdown",
      "metadata": {
        "id": "3cbrdH225_nH",
        "colab_type": "text"
      },
      "source": [
        "Notice that all of the values in the number are already between 0 and 1. If we are training a neural network, for various reasons it's easier if we treat all values in this range, a process called **normalization**'...and fortunately in Python it's easy to normalize a list like this without looping. "
      ]
    },
    {
      "cell_type": "markdown",
      "metadata": {
        "id": "dIn7S9gf62ie",
        "colab_type": "text"
      },
      "source": [
        "Let's now design the model. There's quite a few new concepts here, but don't worry, you'll get the hang of them. \n",
        "In our design we will be playing with the number of layers and the number of newrons that will have each one, however the inicial values will be taking from a teoretical analisys that will be shown in a separe file in the GitHub directory."
      ]
    },
    {
      "cell_type": "markdown",
      "metadata": {
        "id": "d2EUVVKI4nUC",
        "colab_type": "text"
      },
      "source": [
        "Remenber,  the following model has as input: cMg cCu y Fhi; and as outputs: Mgl, Mgs, Cul, Cus. It was designed to predict one of the output Mgl"
      ]
    },
    {
      "cell_type": "code",
      "metadata": {
        "id": "7mAyndG3kVlK",
        "colab_type": "code",
        "colab": {}
      },
      "source": [
        "model = tf.keras.models.Sequential([tf.keras.layers.Flatten(), \n",
        "                                    tf.keras.layers.Dense(16, activation=tf.nn.relu),\n",
        "                                    tf.keras.layers.Dense(64, activation=tf.nn.relu),\n",
        "                                    tf.keras.layers.Dense(128, activation=tf.nn.relu),\n",
        "                                    tf.keras.layers.Dense(1, activation=tf.nn.tanh)])"
      ],
      "execution_count": 0,
      "outputs": []
    },
    {
      "cell_type": "markdown",
      "metadata": {
        "id": "c8vbMCqb9Mh6",
        "colab_type": "text"
      },
      "source": [
        "The next thing to do, now the model is defined, is to actually build it. You do this by compiling it with an optimizer and loss function as before -- and then you train it by calling **model.fit ** asking it to fit your training data to your training labels -- i.e. have it figure out the relationship between the training data and its actual labels, so in future if you have data that looks like the training data, then it can make a prediction for what that data would look like. "
      ]
    },
    {
      "cell_type": "markdown",
      "metadata": {
        "id": "Td4yTY4xZ57Y",
        "colab_type": "text"
      },
      "source": [
        "**Stochastic Gradien Descent**"
      ]
    },
    {
      "cell_type": "code",
      "metadata": {
        "id": "Yk3a3kjVVH4Y",
        "colab_type": "code",
        "colab": {
          "base_uri": "https://localhost:8080/",
          "height": 1000
        },
        "outputId": "b1302ba0-2180-44f0-90c7-d2b613cf8091"
      },
      "source": [
        "model.compile(optimizer = 'sgd',\n",
        "              loss = 'mean_squared_error',\n",
        "              metrics=['accuracy'])\n",
        "\n",
        "history = model.fit(training_input, training_output, validation_data=(test_input, test_output), epochs=20, batch_size=256)\n",
        "#model.evaluate(test_input, test_output)\n",
        "\n",
        "classifications = model.predict(test_input)\n",
        "\n",
        "print(classifications[0])\n",
        "print(test_output[0])\n",
        "\n",
        "# plot loss during training\n",
        "from matplotlib import pyplot\n",
        "pyplot.title('Loss / Sthocastic Gradiend Descent Optimizer')\n",
        "pyplot.plot(history.history['loss'], label='train')\n",
        "pyplot.plot(history.history['val_loss'], label='test')\n",
        "pyplot.legend()\n",
        "pyplot.show()\n",
        "# plot loss during training"
      ],
      "execution_count": 149,
      "outputs": [
        {
          "output_type": "stream",
          "text": [
            "Train on 100000 samples, validate on 1000 samples\n",
            "Epoch 1/20\n",
            "100000/100000 [==============================] - 1s 13us/sample - loss: 9.6548e-04 - acc: 0.0000e+00 - val_loss: 6.2941e-04 - val_acc: 0.0000e+00\n",
            "Epoch 2/20\n",
            "100000/100000 [==============================] - 1s 8us/sample - loss: 6.0422e-04 - acc: 0.0000e+00 - val_loss: 5.0421e-04 - val_acc: 0.0000e+00\n",
            "Epoch 3/20\n",
            "100000/100000 [==============================] - 1s 8us/sample - loss: 5.0746e-04 - acc: 0.0000e+00 - val_loss: 4.4474e-04 - val_acc: 0.0000e+00\n",
            "Epoch 4/20\n",
            "100000/100000 [==============================] - 1s 8us/sample - loss: 4.6175e-04 - acc: 0.0000e+00 - val_loss: 4.1881e-04 - val_acc: 0.0000e+00\n",
            "Epoch 5/20\n",
            "100000/100000 [==============================] - 1s 8us/sample - loss: 4.3825e-04 - acc: 0.0000e+00 - val_loss: 4.0232e-04 - val_acc: 0.0000e+00\n",
            "Epoch 6/20\n",
            "100000/100000 [==============================] - 1s 8us/sample - loss: 4.2197e-04 - acc: 0.0000e+00 - val_loss: 3.9055e-04 - val_acc: 0.0000e+00\n",
            "Epoch 7/20\n",
            "100000/100000 [==============================] - 1s 8us/sample - loss: 4.0965e-04 - acc: 0.0000e+00 - val_loss: 3.8093e-04 - val_acc: 0.0000e+00\n",
            "Epoch 8/20\n",
            "100000/100000 [==============================] - 1s 8us/sample - loss: 3.9987e-04 - acc: 0.0000e+00 - val_loss: 3.7303e-04 - val_acc: 0.0000e+00\n",
            "Epoch 9/20\n",
            "100000/100000 [==============================] - 1s 8us/sample - loss: 3.9146e-04 - acc: 0.0000e+00 - val_loss: 3.6643e-04 - val_acc: 0.0000e+00\n",
            "Epoch 10/20\n",
            "100000/100000 [==============================] - 1s 8us/sample - loss: 3.8411e-04 - acc: 0.0000e+00 - val_loss: 3.6012e-04 - val_acc: 0.0000e+00\n",
            "Epoch 11/20\n",
            "100000/100000 [==============================] - 1s 7us/sample - loss: 3.7743e-04 - acc: 0.0000e+00 - val_loss: 3.5455e-04 - val_acc: 0.0000e+00\n",
            "Epoch 12/20\n",
            "100000/100000 [==============================] - 1s 8us/sample - loss: 3.6987e-04 - acc: 0.0000e+00 - val_loss: 3.4386e-04 - val_acc: 0.0000e+00\n",
            "Epoch 13/20\n",
            "100000/100000 [==============================] - 1s 8us/sample - loss: 3.5720e-04 - acc: 0.0000e+00 - val_loss: 3.3684e-04 - val_acc: 0.0000e+00\n",
            "Epoch 14/20\n",
            "100000/100000 [==============================] - 1s 8us/sample - loss: 3.5111e-04 - acc: 0.0000e+00 - val_loss: 3.3222e-04 - val_acc: 0.0000e+00\n",
            "Epoch 15/20\n",
            "100000/100000 [==============================] - 1s 8us/sample - loss: 3.4619e-04 - acc: 0.0000e+00 - val_loss: 3.2817e-04 - val_acc: 0.0000e+00\n",
            "Epoch 16/20\n",
            "100000/100000 [==============================] - 1s 7us/sample - loss: 3.4164e-04 - acc: 0.0000e+00 - val_loss: 3.2452e-04 - val_acc: 0.0000e+00\n",
            "Epoch 17/20\n",
            "100000/100000 [==============================] - 1s 7us/sample - loss: 3.3734e-04 - acc: 0.0000e+00 - val_loss: 3.2083e-04 - val_acc: 0.0000e+00\n",
            "Epoch 18/20\n",
            "100000/100000 [==============================] - 1s 8us/sample - loss: 3.3330e-04 - acc: 0.0000e+00 - val_loss: 3.1750e-04 - val_acc: 0.0000e+00\n",
            "Epoch 19/20\n",
            "100000/100000 [==============================] - 1s 8us/sample - loss: 3.2945e-04 - acc: 0.0000e+00 - val_loss: 3.1428e-04 - val_acc: 0.0000e+00\n",
            "Epoch 20/20\n",
            "100000/100000 [==============================] - 1s 8us/sample - loss: 3.2580e-04 - acc: 0.0000e+00 - val_loss: 3.1137e-04 - val_acc: 0.0000e+00\n",
            "[0.05257587]\n",
            "[0.05552293]\n"
          ],
          "name": "stdout"
        },
        {
          "output_type": "display_data",
          "data": {
            "image/png": "[encoded data removed]",
            "text/plain": [
              "<Figure size 432x288 with 1 Axes>"
            ]
          },
          "metadata": {
            "tags": []
          }
        }
      ]
    },
    {
      "cell_type": "markdown",
      "metadata": {
        "id": "3CwwThZGS00T",
        "colab_type": "text"
      },
      "source": [
        "Computation of the Mean Relative Error for each of the values predicted (individually)"
      ]
    },
    {
      "cell_type": "code",
      "metadata": {
        "id": "b3rf24pKA_EF",
        "colab_type": "code",
        "colab": {
          "base_uri": "https://localhost:8080/",
          "height": 35
        },
        "outputId": "d8a5b40d-8f81-46fb-dd77-172c633b104d"
      },
      "source": [
        "Value = classifications\n",
        "Predi = test_output\n",
        "N = Predi.size\n",
        "ValueX = Value.reshape(N,1)\n",
        "PrediX = Predi.reshape(N,1)\n",
        "error = np.sum(np.absolute((ValueX - PrediX)/ValueX))/N\n",
        "print(error)"
      ],
      "execution_count": 150,
      "outputs": [
        {
          "output_type": "stream",
          "text": [
            "0.309897102829366\n"
          ],
          "name": "stdout"
        }
      ]
    },
    {
      "cell_type": "markdown",
      "metadata": {
        "id": "3qw4V_7Tx9gh",
        "colab_type": "text"
      },
      "source": [
        "**TensorFlow version 1.15.0**"
      ]
    },
    {
      "cell_type": "markdown",
      "metadata": {
        "id": "i1N5Y-k2TBN1",
        "colab_type": "text"
      },
      "source": [
        "Following, is presented the model used to predict the solutions for  the quasi phase equilibriem equations, in the 5-layer model  used in this project. "
      ]
    },
    {
      "cell_type": "code",
      "metadata": {
        "id": "j-PLRGVppsGu",
        "colab_type": "code",
        "outputId": "908af6ba-0e5c-406d-bdce-026663830b00",
        "colab": {
          "base_uri": "https://localhost:8080/",
          "height": 90
        }
      },
      "source": [
        "training_inputdata = my_training_data[1:,0:3]\n",
        "training_outputdata = my_training_data[1:,3:7]\n",
        "test_inputdata = my_test_data[1:,0:3]\n",
        "test_outputdata = my_test_data[1:,3:7]\n",
        "print (training_inputdata.shape)\n",
        "print( training_outputdata.shape)\n",
        "print (test_inputdata.shape)\n",
        "print(test_outputdata.shape)"
      ],
      "execution_count": 151,
      "outputs": [
        {
          "output_type": "stream",
          "text": [
            "(100000, 3)\n",
            "(100000, 4)\n",
            "(1000, 3)\n",
            "(1000, 4)\n"
          ],
          "name": "stdout"
        }
      ]
    },
    {
      "cell_type": "code",
      "metadata": {
        "id": "Yz52wzmA52-O",
        "colab_type": "code",
        "colab": {}
      },
      "source": [
        "# mlp for the blobs multi-class classification problem with cross-entropy loss\n",
        "from sklearn.datasets import make_blobs\n",
        "from keras.layers import Dense\n",
        "from keras.models import Sequential\n",
        "from keras.optimizers import SGD\n",
        "from keras.utils import to_categorical\n",
        "from matplotlib import pyplot\n",
        "# generate 2d classification dataset\n",
        "trainX = training_inputdata\n",
        "testX = test_inputdata\n",
        "trainy = training_outputdata\n",
        "testy = test_outputdata"
      ],
      "execution_count": 0,
      "outputs": []
    },
    {
      "cell_type": "code",
      "metadata": {
        "id": "feVOD4ucpvic",
        "colab_type": "code",
        "outputId": "5c3d5628-1c0c-499f-fd8b-c6b29453a171",
        "colab": {
          "base_uri": "https://localhost:8080/",
          "height": 35
        }
      },
      "source": [
        "# define model\n",
        "model = Sequential()\n",
        "model.add(Dense(64, input_dim=3, activation='relu', kernel_initializer='he_uniform'))\n",
        "model.add(Dense(128, input_dim=64, activation='relu', kernel_initializer='he_uniform'))\n",
        "model.add(Dense(256, input_dim=128, activation='relu', kernel_initializer='he_uniform'))\n",
        "model.add(Dense(64, input_dim=256, activation='relu', kernel_initializer='he_uniform'))\n",
        "model.add(Dense(4, activation='softmax'))\n",
        "# compile model\n",
        "opt = SGD(lr=0.01, momentum=0.9)\n",
        "model.compile(loss='categorical_crossentropy', optimizer=opt, metrics=['accuracy'])\n",
        "# fit model\n",
        "history = model.fit(trainX, trainy, validation_data=(testX, testy), epochs=500,batch_size=128, verbose=0)\n",
        "print(history.)"
      ],
      "execution_count": 153,
      "outputs": [
        {
          "output_type": "stream",
          "text": [
            "<keras.callbacks.History object at 0x7f1b2c7677b8>\n"
          ],
          "name": "stdout"
        }
      ]
    },
    {
      "cell_type": "code",
      "metadata": {
        "id": "f7F-87GR6C-i",
        "colab_type": "code",
        "colab": {
          "base_uri": "https://localhost:8080/",
          "height": 335
        },
        "outputId": "4b924625-f0ac-417c-f923-464949c134be"
      },
      "source": [
        "# evaluate the model\n",
        "_, train_acc = model.evaluate(trainX, trainy, verbose=0)\n",
        "_, test_acc = model.evaluate(testX, testy, verbose=0)\n",
        "print('Train: %.3f, Test: %.3f' % (train_acc, test_acc))\n",
        "# plot loss during training\n",
        "pyplot.subplot(131)\n",
        "pyplot.title('Loss')\n",
        "pyplot.plot(history.history['loss'], label='train')\n",
        "pyplot.plot(history.history['val_loss'], label='test')\n",
        "pyplot.legend()\n",
        "# plot accuracy during training\n",
        "pyplot.subplot(133)\n",
        "pyplot.title('Accuracy')\n",
        "pyplot.plot(history.history['acc'], label='train')\n",
        "pyplot.plot(history.history['val_acc'], label='test')\n",
        "pyplot.legend()\n",
        "pyplot.show()\n",
        "\n",
        "pyplot.show()\n",
        "classifications = model.predict(testX)\n",
        "print(classifications[0])\n",
        "print(testy[0, :])"
      ],
      "execution_count": 154,
      "outputs": [
        {
          "output_type": "stream",
          "text": [
            "Train: 0.935, Test: 0.941\n"
          ],
          "name": "stdout"
        },
        {
          "output_type": "display_data",
          "data": {
            "image/png": "[encoded data removed]",
            "text/plain": [
              "<Figure size 432x288 with 2 Axes>"
            ]
          },
          "metadata": {
            "tags": []
          }
        },
        {
          "output_type": "stream",
          "text": [
            "[0.40250257 0.12961166 0.4205369  0.04734885]\n",
            "[0.05552293 0.01819259 0.0741486  0.00880691]\n"
          ],
          "name": "stdout"
        }
      ]
    },
    {
      "cell_type": "markdown",
      "metadata": {
        "id": "Xm94mPsLAqED",
        "colab_type": "text"
      },
      "source": [
        "Transformation of the percentages to real predictions values:"
      ]
    },
    {
      "cell_type": "code",
      "metadata": {
        "id": "XDOn46YwApBl",
        "colab_type": "code",
        "colab": {
          "base_uri": "https://localhost:8080/",
          "height": 145
        },
        "outputId": "f5872292-0438-4165-be6e-8d0d254df57a"
      },
      "source": [
        "i = 0\n",
        "predictionsList = []\n",
        "for classification in classifications:\n",
        "  prediction = []\n",
        "  subtotal = np.sum(testy[i,:])  \n",
        "  for value in classification:    \n",
        "    data = ((value * subtotal))\n",
        "    prediction.append(data)    \n",
        "  predictionsList.append(prediction)\n",
        "  i = i+1\n",
        "predictions =  np.array(predictionsList)\n",
        "print (predictions)  "
      ],
      "execution_count": 155,
      "outputs": [
        {
          "output_type": "stream",
          "text": [
            "[[0.06306049 0.02030639 0.06588595 0.00741819]\n",
            " [0.0219717  0.00741303 0.0444617  0.00662369]\n",
            " [0.06612435 0.02394927 0.00338539 0.00040254]\n",
            " ...\n",
            " [0.0983896  0.03445678 0.11359142 0.01725488]\n",
            " [0.03948933 0.01329475 0.08637157 0.01295266]\n",
            " [0.08566655 0.02947008 0.11751999 0.01735661]]\n"
          ],
          "name": "stdout"
        }
      ]
    },
    {
      "cell_type": "markdown",
      "metadata": {
        "id": "WZufaa2icGCP",
        "colab_type": "text"
      },
      "source": [
        "Mean Relative Error "
      ]
    },
    {
      "cell_type": "code",
      "metadata": {
        "colab_type": "code",
        "outputId": "58307224-5881-44b8-98f5-e60f19f1c92c",
        "id": "wXKG_lJUShgv",
        "colab": {
          "base_uri": "https://localhost:8080/",
          "height": 90
        }
      },
      "source": [
        "MglValue = testy[:,0]\n",
        "MglPredi = predictions[:,0]\n",
        "N = MglPredi.size\n",
        "MglValue = MglValue.reshape(N,1)\n",
        "MglPredi = MglPredi.reshape(N,1)\n",
        "ErrorMgl = np.sum(np.absolute((MglValue - MglPredi)/MglValue))/N\n",
        "\n",
        "MgsValue = testy[:,1]\n",
        "MgsPredi = predictions[:,1]\n",
        "N = MgsPredi.size\n",
        "MgsValue = MgsValue.reshape(N,1)\n",
        "MgsPredi = MgsPredi.reshape(N,1)\n",
        "ErrorMgs = np.sum(np.absolute((MgsValue - MgsPredi)/MgsValue))/N\n",
        "\n",
        "CulValue = testy[:,2]\n",
        "CulPredi = predictions[:,2]\n",
        "N = CulPredi.size\n",
        "CulValue = CulValue.reshape(N,1)\n",
        "CulPredi = CulPredi.reshape(N,1)\n",
        "ErrorCul = np.sum(np.absolute((CulValue - CulPredi)/CulValue))/N\n",
        "\n",
        "CusValue = testy[:,3]\n",
        "CusPredi = predictions[:,3]\n",
        "N = CusPredi.size\n",
        "CusValue = CusValue.reshape(N,1)\n",
        "CusPredi = CusPredi.reshape(N,1)\n",
        "ErrorCus = np.sum(np.absolute((CusValue - CusPredi)/CusValue))/N\n",
        "\n",
        "\n",
        "print(\"The Mean Relative Erros for each of the predictions are the following:\")\n",
        "print (\"CuS Errors is:\" + str( ErrorCus))\n",
        "print (\"CuL Errors is:\" + str( ErrorCul))\n",
        "print (\"MgS Errors is:\" + str( ErrorMgs))\n",
        "print (\"MgL Errors is:\" + str( ErrorMgl))\n"
      ],
      "execution_count": 0,
      "outputs": [
        {
          "output_type": "stream",
          "text": [
            "MgL Errors is:0.2079344946442912\n",
            "MgS Errors is:0.16129730884296245\n",
            "CuL Errors is:0.44087152224412135\n",
            "CuS Errors is:0.7269395794505851\n"
          ],
          "name": "stdout"
        }
      ]
    },
    {
      "cell_type": "code",
      "metadata": {
        "id": "o5WbTsyYSY7l",
        "colab_type": "code",
        "colab": {}
      },
      "source": [
        "j=0\n",
        "for i in CulValue :\n",
        "  print(str(i)+\", \"+ str( CulPredi[j,0])) \n",
        "  j = j+1"
      ],
      "execution_count": 0,
      "outputs": []
    },
    {
      "cell_type": "markdown",
      "metadata": {
        "colab_type": "text",
        "id": "CMRr_I2WB-ZT"
      },
      "source": [
        "**Conclution**\n",
        "\n",
        "As can be seen, the implemneted NN have provide subtantially great improvement over the NN model presented in the original paper."
      ]
    }
  ]
}