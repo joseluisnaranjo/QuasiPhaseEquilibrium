{
  "nbformat": 4,
  "nbformat_minor": 0,
  "metadata": {
    "colab": {
      "name": "Copia de QuiasiPhaseEquilibrium.ipynb",
      "provenance": []
    },
    "kernelspec": {
      "name": "python3",
      "display_name": "Python 3"
    }
  },
  "cells": [
    {
      "cell_type": "markdown",
      "metadata": {
        "id": "ajQspFvk7FU7",
        "colab_type": "text"
      },
      "source": [
        "# **Lanzhou University Of Tehcnology**\n",
        "[LUT website](https://www.lut.edu.cn/)\n",
        "\n",
        "![texto alternativo](![](https://https://statnano.com/resource/amar_university_world/files/images/21/1/thumbnail_5e805feba49b7b25e489d511fe246791.jpg))"
      ]
    },
    {
      "cell_type": "markdown",
      "metadata": {
        "id": "ZIAkIlfmCe1B",
        "colab_type": "text"
      },
      "source": [
        "# **Improving** the fast prediction of the quasi phase equilibrum in phase field model for multicomponet alloys. "
      ]
    },
    {
      "cell_type": "markdown",
      "metadata": {
        "colab_type": "text",
        "id": "vyVVyZFo9q1C"
      },
      "source": [
        "We aim to improve the phase field model for multicomponent alloys introduced by **Xue Jiang** et al., In the published pair they provide the data used to obtain their results, therefor we are using the same data set in order to have evidence that our Neural Network Model (NN) for the fast prediction of the quasi phase equilibrium. We propose a robust NN which incorporates several layers including convolutional and pulling layers in the case they are implemnted. \n",
        "\n",
        "As a forst step, we are going to load the data as following: "
      ]
    },
    {
      "cell_type": "code",
      "metadata": {
        "id": "bra0d7LO-fJe",
        "colab_type": "code",
        "outputId": "124c7307-4ef5-4b68-e8fb-ee9b80ef505a",
        "colab": {
          "resources": {
            "http://localhost:8080/nbextensions/google.colab/files.js": {
              "data": "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",
              "ok": true,
              "headers": [
                [
                  "content-type",
                  "application/javascript"
                ]
              ],
              "status": 200,
              "status_text": ""
            }
          },
          "base_uri": "https://localhost:8080/",
          "height": 93
        }
      },
      "source": [
        "from google.colab import files\n",
        "uploaded = files.upload()\n",
        "for fn in uploaded.keys():\n",
        "  print('User uploaded file \"{name}\" with length {length} bytes'.format(\n",
        "      name=fn, length=len(uploaded[fn])))"
      ],
      "execution_count": 2,
      "outputs": [
        {
          "output_type": "display_data",
          "data": {
            "text/html": [
              "\n",
              "     <input type=\"file\" id=\"files-09aef79c-b10d-465d-9e66-0093950e970f\" name=\"files[]\" multiple disabled />\n",
              "     <output id=\"result-09aef79c-b10d-465d-9e66-0093950e970f\">\n",
              "      Upload widget is only available when the cell has been executed in the\n",
              "      current browser session. Please rerun this cell to enable.\n",
              "      </output>\n",
              "      <script src=\"/nbextensions/google.colab/files.js\"></script> "
            ],
            "text/plain": [
              "<IPython.core.display.HTML object>"
            ]
          },
          "metadata": {
            "tags": []
          }
        },
        {
          "output_type": "stream",
          "text": [
            "Saving Data1kTesting.csv to Data1kTesting.csv\n",
            "User uploaded file \"Data1kTesting.csv\" with length 108027 bytes\n"
          ],
          "name": "stdout"
        }
      ]
    },
    {
      "cell_type": "code",
      "metadata": {
        "id": "tMGl5bV9-3TC",
        "colab_type": "code",
        "colab": {}
      },
      "source": [
        "from numpy import genfromtxt\n",
        "my_training_data = genfromtxt('Data100kTraining.csv', delimiter=',')\n",
        "my_test_data = genfromtxt('Data1kTesting.csv', delimiter=',')\n",
        "training_inputdata = my_training_data[1:,0:3]\n",
        "training_outputdata = my_training_data[1:,3]\n",
        "test_inputdata = my_test_data[1:,0:3]\n",
        "test_outputdata = my_test_data[1:,3]"
      ],
      "execution_count": 0,
      "outputs": []
    },
    {
      "cell_type": "code",
      "metadata": {
        "id": "SR8i13EFZJNV",
        "colab_type": "code",
        "colab": {
          "base_uri": "https://localhost:8080/",
          "height": 35
        },
        "outputId": "76f66299-68e4-4bda-b327-48e01d151605"
      },
      "source": [
        "\n",
        "print (training_outputdata)"
      ],
      "execution_count": 130,
      "outputs": [
        {
          "output_type": "stream",
          "text": [
            "[0.03423592 0.03418403 0.01220378 ... 0.05632001 0.07137153 0.00564966]\n"
          ],
          "name": "stdout"
        }
      ]
    },
    {
      "cell_type": "code",
      "metadata": {
        "id": "kgZOhAriaG_H",
        "colab_type": "code",
        "outputId": "08472a8e-b379-4866-81c7-83327876645b",
        "colab": {
          "base_uri": "https://localhost:8080/",
          "height": 90
        }
      },
      "source": [
        "import numpy as np\n",
        "from numpy import  newaxis\n",
        "\n",
        "training_input = training_inputdata[:,:,newaxis]\n",
        "training_output = training_outputdata.reshape(99900,1)\n",
        "test_input = test_inputdata[:,:,newaxis]\n",
        "test_output = test_outputdata.reshape(1000,1)\n",
        "print (training_input.shape)\n",
        "print (training_output.shape)\n",
        "print (test_input.shape)\n",
        "print (test_output.shape)"
      ],
      "execution_count": 160,
      "outputs": [
        {
          "output_type": "stream",
          "text": [
            "(99900, 3, 1)\n",
            "(99900, 1)\n",
            "(1000, 3, 1)\n",
            "(1000, 1)\n"
          ],
          "name": "stdout"
        }
      ]
    },
    {
      "cell_type": "markdown",
      "metadata": {
        "id": "H41FYgtlHPjW",
        "colab_type": "text"
      },
      "source": [
        "\n",
        "Let's start with our import of TensorFlow"
      ]
    },
    {
      "cell_type": "code",
      "metadata": {
        "id": "q3KzJyjv3rnA",
        "colab_type": "code",
        "outputId": "e53258d3-40db-48d4-fd7a-9c889e92ee51",
        "colab": {
          "base_uri": "https://localhost:8080/",
          "height": 35
        }
      },
      "source": [
        "import tensorflow as tf\n",
        "print(tf.__version__)"
      ],
      "execution_count": 7,
      "outputs": [
        {
          "output_type": "stream",
          "text": [
            "1.15.0\n"
          ],
          "name": "stdout"
        }
      ]
    },
    {
      "cell_type": "markdown",
      "metadata": {
        "id": "3cbrdH225_nH",
        "colab_type": "text"
      },
      "source": [
        "Notice that all of the values in the number are already between 0 and 1. If we are training a neural network, for various reasons it's easier if we treat all values in this range, a process called **normalization**'...and fortunately in Python it's easy to normalize a list like this without looping. "
      ]
    },
    {
      "cell_type": "markdown",
      "metadata": {
        "id": "dIn7S9gf62ie",
        "colab_type": "text"
      },
      "source": [
        "Let's now design the model. There's quite a few new concepts here, but don't worry, you'll get the hang of them. \n",
        "In our design we will be playing with the number of layers and the number of newrons that will have each one, however the inicial values will be taking from a teoretical analisys that will be shown in a separe file in the GitHub directory."
      ]
    },
    {
      "cell_type": "markdown",
      "metadata": {
        "id": "d2EUVVKI4nUC",
        "colab_type": "text"
      },
      "source": [
        "Remenber,  the following model has as input: cMg cCu y Fhi; and as outputs: Mgl, Mgs, Cul, Cus. It was designed to predict one of the output Mgl"
      ]
    },
    {
      "cell_type": "code",
      "metadata": {
        "id": "7mAyndG3kVlK",
        "colab_type": "code",
        "colab": {}
      },
      "source": [
        "model = tf.keras.models.Sequential([tf.keras.layers.Flatten(), \n",
        "                                    tf.keras.layers.Dense(16, activation=tf.nn.relu),\n",
        "                                    tf.keras.layers.Dense(64, activation=tf.nn.relu),\n",
        "                                    tf.keras.layers.Dense(128, activation=tf.nn.relu),\n",
        "                                    tf.keras.layers.Dense(1, activation=tf.nn.tanh)])"
      ],
      "execution_count": 0,
      "outputs": []
    },
    {
      "cell_type": "markdown",
      "metadata": {
        "id": "c8vbMCqb9Mh6",
        "colab_type": "text"
      },
      "source": [
        "The next thing to do, now the model is defined, is to actually build it. You do this by compiling it with an optimizer and loss function as before -- and then you train it by calling **model.fit ** asking it to fit your training data to your training labels -- i.e. have it figure out the relationship between the training data and its actual labels, so in future if you have data that looks like the training data, then it can make a prediction for what that data would look like. "
      ]
    },
    {
      "cell_type": "markdown",
      "metadata": {
        "id": "Td4yTY4xZ57Y",
        "colab_type": "text"
      },
      "source": [
        "**Stochastic Gradien Descent**"
      ]
    },
    {
      "cell_type": "code",
      "metadata": {
        "id": "Yk3a3kjVVH4Y",
        "colab_type": "code",
        "colab": {
          "base_uri": "https://localhost:8080/",
          "height": 399
        },
        "outputId": "88a53202-163d-4051-f437-8bbbcedfc3c2"
      },
      "source": [
        "test_output = test_output.reshape(1000,1)\n",
        "model.compile(optimizer = tf.keras.optimizers.SGD(learning_rate=0.01, momentum=0.0, nesterov=False, name='SGD'),\n",
        "              loss = 'mean_squared_error',\n",
        "              metrics=['accuracy'])\n",
        "\n",
        "history = model.fit(training_input, training_output, validation_data=(test_input, test_output), batch_size=16, epochs=10) #batch_size=4096,\n"
      ],
      "execution_count": 214,
      "outputs": [
        {
          "output_type": "stream",
          "text": [
            "Train on 99900 samples, validate on 1000 samples\n",
            "Epoch 1/10\n",
            "99900/99900 [==============================] - 10s 96us/sample - loss: 4.1339e-04 - acc: 0.0000e+00 - val_loss: 2.8820e-04 - val_acc: 0.0000e+00\n",
            "Epoch 2/10\n",
            "99900/99900 [==============================] - 9s 89us/sample - loss: 2.6802e-04 - acc: 0.0000e+00 - val_loss: 2.5216e-04 - val_acc: 0.0000e+00\n",
            "Epoch 3/10\n",
            "99900/99900 [==============================] - 9s 90us/sample - loss: 2.4761e-04 - acc: 0.0000e+00 - val_loss: 2.4848e-04 - val_acc: 0.0000e+00\n",
            "Epoch 4/10\n",
            "99900/99900 [==============================] - 9s 91us/sample - loss: 2.4336e-04 - acc: 0.0000e+00 - val_loss: 2.4469e-04 - val_acc: 0.0000e+00\n",
            "Epoch 5/10\n",
            "99900/99900 [==============================] - 9s 93us/sample - loss: 2.4110e-04 - acc: 0.0000e+00 - val_loss: 2.4340e-04 - val_acc: 0.0000e+00\n",
            "Epoch 6/10\n",
            "99900/99900 [==============================] - 9s 90us/sample - loss: 2.3957e-04 - acc: 0.0000e+00 - val_loss: 2.4269e-04 - val_acc: 0.0000e+00\n",
            "Epoch 7/10\n",
            "99900/99900 [==============================] - 9s 89us/sample - loss: 2.3864e-04 - acc: 0.0000e+00 - val_loss: 2.4273e-04 - val_acc: 0.0000e+00\n",
            "Epoch 8/10\n",
            "99900/99900 [==============================] - 9s 90us/sample - loss: 2.3795e-04 - acc: 0.0000e+00 - val_loss: 2.4392e-04 - val_acc: 0.0000e+00\n",
            "Epoch 9/10\n",
            "99900/99900 [==============================] - 9s 91us/sample - loss: 2.3732e-04 - acc: 0.0000e+00 - val_loss: 2.4084e-04 - val_acc: 0.0000e+00\n",
            "Epoch 10/10\n",
            "99900/99900 [==============================] - 9s 91us/sample - loss: 2.3672e-04 - acc: 0.0000e+00 - val_loss: 2.4000e-04 - val_acc: 0.0000e+00\n"
          ],
          "name": "stdout"
        }
      ]
    },
    {
      "cell_type": "markdown",
      "metadata": {
        "id": "wknj9QPTWx6-",
        "colab_type": "text"
      },
      "source": [
        "Following is shown the prediction of the model:\n"
      ]
    },
    {
      "cell_type": "code",
      "metadata": {
        "id": "5mjfMn1UW-YX",
        "colab_type": "code",
        "colab": {
          "base_uri": "https://localhost:8080/",
          "height": 54
        },
        "outputId": "449d1a5b-ed33-48d4-9b21-5fc54d7d7b2c"
      },
      "source": [
        "#model.evaluate(test_input, test_output)\n",
        "classifications = model.predict(test_input)\n",
        "classifications = classifications.reshape(1,1000)\n",
        "test_output = test_output.reshape(1,1000)\n",
        "print(\"First element prediction:\", + classifications[0, 0:5] )\n",
        "print(\"First element real value:\", test_output[0, 0:5])"
      ],
      "execution_count": 215,
      "outputs": [
        {
          "output_type": "stream",
          "text": [
            "First element prediction: [0.04762461 0.03922815 0.11180709 0.10688281 0.07096075]\n",
            "First element real value: [0.05552293 0.02777021 0.06883758 0.07498071 0.08858769]\n"
          ],
          "name": "stdout"
        }
      ]
    },
    {
      "cell_type": "markdown",
      "metadata": {
        "id": "OnX0VqVHaH5U",
        "colab_type": "text"
      },
      "source": [
        "Next, is presented the raph of the obtained results"
      ]
    },
    {
      "cell_type": "code",
      "metadata": {
        "id": "BLMdl9aP8nQ0",
        "colab_type": "code",
        "outputId": "c28c8b6e-83ee-4784-9626-a1a73ea2d527",
        "colab": {
          "base_uri": "https://localhost:8080/",
          "height": 281
        }
      },
      "source": [
        "from matplotlib import pyplot\n",
        "pyplot.title('Loss / Gradien Descent Optimizer')\n",
        "pyplot.plot(history.history['loss'], label='train')\n",
        "pyplot.plot(history.history['val_loss'], label='test')\n",
        "pyplot.legend()\n",
        "pyplot.show()"
      ],
      "execution_count": 216,
      "outputs": [
        {
          "output_type": "display_data",
          "data": {
            "image/png": "[encoded data removed]",
            "text/plain": [
              "<Figure size 432x288 with 1 Axes>"
            ]
          },
          "metadata": {
            "tags": []
          }
        }
      ]
    },
    {
      "cell_type": "markdown",
      "metadata": {
        "id": "pGBYwpA3Zgp1",
        "colab_type": "text"
      },
      "source": [
        "Following, is the implementation of the same model, but this time is run using an Adam Optimizer instead of Stochastic Gradient Descent, this model also predicts just one of the four expected outputs."
      ]
    },
    {
      "cell_type": "markdown",
      "metadata": {
        "id": "jIrhtELhaTu_",
        "colab_type": "text"
      },
      "source": [
        "**Adam Optimizer**"
      ]
    },
    {
      "cell_type": "code",
      "metadata": {
        "colab_type": "code",
        "outputId": "3ee80035-7308-4181-be87-2fa0146b862d",
        "id": "zBQieSpjC5wL",
        "colab": {
          "base_uri": "https://localhost:8080/",
          "height": 799
        }
      },
      "source": [
        "test_output = test_output.reshape(1000,1)\n",
        "model.compile(optimizer = tf.train.AdamOptimizer(),\n",
        "              loss = 'mean_squared_error',\n",
        "              metrics=['accuracy'])\n",
        "\n",
        "history = model.fit(training_input, training_output, validation_data=(test_input, test_output),batch_size=64, epochs=20)\n",
        "#model.evaluate(test_input, test_output)\n",
        "classifications = model.predict(test_input)\n",
        "\n",
        "print(\"First element prediction:\", + classifications[0, 0:5] )\n",
        "print(\"First element real value:\", test_output[0, 0:5])"
      ],
      "execution_count": 229,
      "outputs": [
        {
          "output_type": "stream",
          "text": [
            "Train on 99900 samples, validate on 1000 samples\n",
            "Epoch 1/20\n",
            "99900/99900 [==============================] - 5s 51us/sample - loss: 2.5189e-04 - acc: 0.0000e+00 - val_loss: 2.4096e-04 - val_acc: 0.0000e+00\n",
            "Epoch 2/20\n",
            "99900/99900 [==============================] - 4s 39us/sample - loss: 2.3464e-04 - acc: 0.0000e+00 - val_loss: 2.4385e-04 - val_acc: 0.0000e+00\n",
            "Epoch 3/20\n",
            "99900/99900 [==============================] - 4s 39us/sample - loss: 2.3372e-04 - acc: 0.0000e+00 - val_loss: 2.2903e-04 - val_acc: 0.0000e+00\n",
            "Epoch 4/20\n",
            "99900/99900 [==============================] - 4s 39us/sample - loss: 2.3290e-04 - acc: 0.0000e+00 - val_loss: 2.3344e-04 - val_acc: 0.0000e+00\n",
            "Epoch 5/20\n",
            "99900/99900 [==============================] - 4s 39us/sample - loss: 2.3177e-04 - acc: 0.0000e+00 - val_loss: 2.3321e-04 - val_acc: 0.0000e+00\n",
            "Epoch 6/20\n",
            "99900/99900 [==============================] - 4s 39us/sample - loss: 2.3170e-04 - acc: 0.0000e+00 - val_loss: 2.3211e-04 - val_acc: 0.0000e+00\n",
            "Epoch 7/20\n",
            "99900/99900 [==============================] - 4s 39us/sample - loss: 2.3120e-04 - acc: 0.0000e+00 - val_loss: 2.2935e-04 - val_acc: 0.0000e+00\n",
            "Epoch 8/20\n",
            "99900/99900 [==============================] - 4s 39us/sample - loss: 2.3146e-04 - acc: 0.0000e+00 - val_loss: 2.3230e-04 - val_acc: 0.0000e+00\n",
            "Epoch 9/20\n",
            "99900/99900 [==============================] - 4s 39us/sample - loss: 2.3018e-04 - acc: 0.0000e+00 - val_loss: 2.2825e-04 - val_acc: 0.0000e+00\n",
            "Epoch 10/20\n",
            "99900/99900 [==============================] - 4s 39us/sample - loss: 2.2977e-04 - acc: 0.0000e+00 - val_loss: 2.3114e-04 - val_acc: 0.0000e+00\n",
            "Epoch 11/20\n",
            "99900/99900 [==============================] - 4s 39us/sample - loss: 2.3046e-04 - acc: 0.0000e+00 - val_loss: 2.3512e-04 - val_acc: 0.0000e+00\n",
            "Epoch 12/20\n",
            "99900/99900 [==============================] - 4s 39us/sample - loss: 2.3007e-04 - acc: 0.0000e+00 - val_loss: 2.3208e-04 - val_acc: 0.0000e+00\n",
            "Epoch 13/20\n",
            "99900/99900 [==============================] - 4s 39us/sample - loss: 2.3012e-04 - acc: 0.0000e+00 - val_loss: 2.2765e-04 - val_acc: 0.0000e+00\n",
            "Epoch 14/20\n",
            "99900/99900 [==============================] - 4s 39us/sample - loss: 2.2981e-04 - acc: 0.0000e+00 - val_loss: 2.2850e-04 - val_acc: 0.0000e+00\n",
            "Epoch 15/20\n",
            "99900/99900 [==============================] - 4s 41us/sample - loss: 2.2999e-04 - acc: 0.0000e+00 - val_loss: 2.2889e-04 - val_acc: 0.0000e+00\n",
            "Epoch 16/20\n",
            "99900/99900 [==============================] - 4s 40us/sample - loss: 2.2917e-04 - acc: 0.0000e+00 - val_loss: 2.3095e-04 - val_acc: 0.0000e+00\n",
            "Epoch 17/20\n",
            "99900/99900 [==============================] - 4s 40us/sample - loss: 2.2942e-04 - acc: 0.0000e+00 - val_loss: 2.4152e-04 - val_acc: 0.0000e+00\n",
            "Epoch 18/20\n",
            "99900/99900 [==============================] - 4s 40us/sample - loss: 2.2909e-04 - acc: 0.0000e+00 - val_loss: 2.2616e-04 - val_acc: 0.0000e+00\n",
            "Epoch 19/20\n",
            "99900/99900 [==============================] - 4s 40us/sample - loss: 2.2910e-04 - acc: 0.0000e+00 - val_loss: 2.3853e-04 - val_acc: 0.0000e+00\n",
            "Epoch 20/20\n",
            "99900/99900 [==============================] - 4s 40us/sample - loss: 2.2953e-04 - acc: 0.0000e+00 - val_loss: 2.3548e-04 - val_acc: 0.0000e+00\n",
            "First element prediction: [0.04816569]\n",
            "First element real value: [0.05552293]\n"
          ],
          "name": "stdout"
        }
      ]
    },
    {
      "cell_type": "markdown",
      "metadata": {
        "id": "WDve6CdkaiOV",
        "colab_type": "text"
      },
      "source": [
        "Following the graph of the values obtained:"
      ]
    },
    {
      "cell_type": "code",
      "metadata": {
        "id": "gax9EQkbanSM",
        "colab_type": "code",
        "colab": {
          "base_uri": "https://localhost:8080/",
          "height": 281
        },
        "outputId": "7866ac3e-08ac-4e07-c8a8-3e996d8cadcb"
      },
      "source": [
        "from matplotlib import pyplot\n",
        "pyplot.title('Loss / Adam Optimizer')\n",
        "pyplot.plot(history.history['loss'], label='train')\n",
        "pyplot.plot(history.history['val_loss'], label='test')\n",
        "pyplot.legend()\n",
        "pyplot.show()"
      ],
      "execution_count": 230,
      "outputs": [
        {
          "output_type": "display_data",
          "data": {
            "image/png": "[encoded data removed]",
            "text/plain": [
              "<Figure size 432x288 with 1 Axes>"
            ]
          },
          "metadata": {
            "tags": []
          }
        }
      ]
    },
    {
      "cell_type": "markdown",
      "metadata": {
        "id": "w3iwTEi7-Cy3",
        "colab_type": "text"
      },
      "source": [
        "Finally, is presented a summary of the architecture implemented of the model."
      ]
    },
    {
      "cell_type": "code",
      "metadata": {
        "id": "CcfrS0eU3uXU",
        "colab_type": "code",
        "outputId": "6330dd62-4211-48eb-f0e0-331a8bbf2579",
        "colab": {
          "base_uri": "https://localhost:8080/",
          "height": 363
        }
      },
      "source": [
        "print(model.summary())"
      ],
      "execution_count": 231,
      "outputs": [
        {
          "output_type": "stream",
          "text": [
            "Model: \"sequential_29\"\n",
            "_________________________________________________________________\n",
            "Layer (type)                 Output Shape              Param #   \n",
            "=================================================================\n",
            "flatten_29 (Flatten)         multiple                  0         \n",
            "_________________________________________________________________\n",
            "dense_99 (Dense)             multiple                  64        \n",
            "_________________________________________________________________\n",
            "dense_100 (Dense)            multiple                  1088      \n",
            "_________________________________________________________________\n",
            "dense_101 (Dense)            multiple                  8320      \n",
            "_________________________________________________________________\n",
            "dense_102 (Dense)            multiple                  129       \n",
            "=================================================================\n",
            "Total params: 9,601\n",
            "Trainable params: 9,601\n",
            "Non-trainable params: 0\n",
            "_________________________________________________________________\n",
            "None\n"
          ],
          "name": "stdout"
        }
      ]
    }
  ]
}